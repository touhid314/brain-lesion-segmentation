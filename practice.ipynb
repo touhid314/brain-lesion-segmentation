{
 "cells": [
  {
   "cell_type": "code",
   "execution_count": 1,
   "metadata": {},
   "outputs": [
    {
     "name": "stdout",
     "output_type": "stream",
     "text": [
      "Original tensor shape: torch.Size([189, 233, 193])\n",
      "Sliced tensor shape: torch.Size([233, 193])\n"
     ]
    }
   ],
   "source": [
    "import torch\n",
    "\n",
    "# Create a tensor of shape (189, 233, 193)\n",
    "tensor = torch.randn(189, 233, 193)\n",
    "\n",
    "# Slice the tensor into a (233, 193) tensor based on slice indices\n",
    "sliced_tensor = tensor[5, :, :]\n",
    "\n",
    "print(\"Original tensor shape:\", tensor.shape)\n",
    "print(\"Sliced tensor shape:\", sliced_tensor.shape)\n"
   ]
  }
 ],
 "metadata": {
  "kernelspec": {
   "display_name": "Python 3",
   "language": "python",
   "name": "python3"
  },
  "language_info": {
   "codemirror_mode": {
    "name": "ipython",
    "version": 3
   },
   "file_extension": ".py",
   "mimetype": "text/x-python",
   "name": "python",
   "nbconvert_exporter": "python",
   "pygments_lexer": "ipython3",
   "version": "3.10.7"
  },
  "orig_nbformat": 4
 },
 "nbformat": 4,
 "nbformat_minor": 2
}
